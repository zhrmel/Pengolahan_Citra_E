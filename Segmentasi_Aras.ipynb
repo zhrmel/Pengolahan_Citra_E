{
 "cells": [
  {
   "cell_type": "code",
   "execution_count": 14,
   "metadata": {},
   "outputs": [],
   "source": [
    "#import library\n",
    "import cv2\n",
    "import numpy as np\n",
    "import matplotlib"
   ]
  },
  {
   "cell_type": "code",
   "execution_count": 15,
   "metadata": {},
   "outputs": [],
   "source": [
    "daun = cv2.imread(\"daun (1).jpg\",0)\n",
    "#shape untuk syntax tinggi dan lebar\n",
    "tinggi, lebar = daun.shape"
   ]
  },
  {
   "cell_type": "code",
   "execution_count": 16,
   "metadata": {},
   "outputs": [
    {
     "data": {
      "text/plain": [
       "(268, 250)"
      ]
     },
     "execution_count": 16,
     "metadata": {},
     "output_type": "execute_result"
    }
   ],
   "source": [
    "#mencari tinggi dan lebar \n",
    "daun.shape\n",
    "\n",
    "# shape\n",
    "#[0 ]       [:1]       [:2] \n",
    "#tinggi    lebar     keduanya"
   ]
  },
  {
   "cell_type": "code",
   "execution_count": 17,
   "metadata": {},
   "outputs": [],
   "source": [
    "cv2.imshow (\"gambar asli\", daun)\n",
    "cv2.waitKey(0)\n",
    "cv2.destroyAllWindows()"
   ]
  },
  {
   "cell_type": "markdown",
   "metadata": {},
   "source": [
    "# Pengembangan Dwi Aras\n",
    "membagi dua area biner (hitam-putih)"
   ]
  },
  {
   "cell_type": "code",
   "execution_count": 18,
   "metadata": {},
   "outputs": [],
   "source": [
    "#nilai ambang kira\"\n",
    "nilai_ambang =131\n",
    "daun_hasil = daun.copy()\n",
    "for x in range (tinggi):\n",
    "    for y in range (lebar):\n",
    "        #jikk nilai lebih kecil dari nilai ambang maka hitam\n",
    "        if daun[x,y] < nilai_ambang:\n",
    "            daun_hasil[x,y] =0\n",
    "        #jika tiddak putih\n",
    "        else:\n",
    "            daun_hasil[x,y] =225"
   ]
  },
  {
   "cell_type": "code",
   "execution_count": 19,
   "metadata": {},
   "outputs": [],
   "source": [
    "cv2.imshow(\"gambar dwi aras\", daun_hasil)\n",
    "cv2.waitKey(0)\n",
    "cv2.destroyAllWindows()"
   ]
  },
  {
   "cell_type": "markdown",
   "metadata": {},
   "source": [
    "Menentukan nilai ambang"
   ]
  },
  {
   "cell_type": "code",
   "execution_count": 20,
   "metadata": {},
   "outputs": [],
   "source": [
    "def titeratif(image):\n",
    "    tinggi, lebar = image. shape\n",
    "    t0 =127\n",
    "    while(True):\n",
    "        rata_kiri =0;\n",
    "        rata_kanan =0;\n",
    "        jum_kiri =0;\n",
    "        jum_kanan =0;\n",
    "        \n",
    "        for x in range (tinggi):\n",
    "            for y in range(lebar):\n",
    "                if(image[x,y] <=127):\n",
    "                    rata_kiri = rata_kiri +image[x,y]\n",
    "                    jum_kiri =jum_kiri + 1\n",
    "                else:\n",
    "                    rata_kanan = rata_kanan +image[x,y]\n",
    "                    jum_kanan =jum_kanan + 1\n",
    "        rata_kiri = rata_kiri /jum_kiri\n",
    "        rata_kanan = rata_kanan /jum_kanan\n",
    "        t1 =(rata_kiri + rata_kanan)/2\n",
    "            \n",
    "        if((t0-t1) <1):\n",
    "            break\n",
    "        t0+t1\n",
    "    return round(t1)\n",
    "        "
   ]
  },
  {
   "cell_type": "code",
   "execution_count": 21,
   "metadata": {},
   "outputs": [
    {
     "data": {
      "text/plain": [
       "131"
      ]
     },
     "execution_count": 21,
     "metadata": {},
     "output_type": "execute_result"
    }
   ],
   "source": [
    "titeratif(daun)"
   ]
  },
  {
   "cell_type": "markdown",
   "metadata": {},
   "source": [
    "# Aras jamak\n",
    "membagi area dari banyak area, dengan nilai ambang"
   ]
  },
  {
   "cell_type": "code",
   "execution_count": 22,
   "metadata": {},
   "outputs": [],
   "source": [
    "bentuk =cv2.imread(\"arasJamak.png\",0)\n",
    "tinggi, lebar =bentuk.shape"
   ]
  },
  {
   "cell_type": "code",
   "execution_count": 23,
   "metadata": {},
   "outputs": [],
   "source": [
    "cv2.imshow(\"gambar dwi aras\", bentuk)\n",
    "cv2.waitKey(0)\n",
    "cv2.destroyAllWindows()"
   ]
  },
  {
   "cell_type": "code",
   "execution_count": 24,
   "metadata": {},
   "outputs": [],
   "source": [
    "def arasJamak (image, t1,t2):\n",
    "    res = image\n",
    "    tinggi, lebar = image.shape\n",
    "    for x in range (tinggi):\n",
    "        for y in range (lebar):\n",
    "            if(image[x,y] <=t1) or (image[x,y] >= t2):\n",
    "                res[x,y] =0\n",
    "            else:\n",
    "                res[x,y]=225\n",
    "    return res"
   ]
  },
  {
   "cell_type": "code",
   "execution_count": 25,
   "metadata": {},
   "outputs": [],
   "source": [
    "bentukArasJamak1 = arasJamak(bentuk, 150, 250)\n"
   ]
  },
  {
   "cell_type": "code",
   "execution_count": 26,
   "metadata": {},
   "outputs": [],
   "source": [
    "cv2.imshow(\"gambar dwi aras\", bentukArasJamak1)\n",
    "cv2.waitKey(0)\n",
    "cv2.destroyAllWindows()"
   ]
  },
  {
   "cell_type": "code",
   "execution_count": null,
   "metadata": {},
   "outputs": [],
   "source": []
  }
 ],
 "metadata": {
  "kernelspec": {
   "display_name": "Python 3 (ipykernel)",
   "language": "python",
   "name": "python3"
  },
  "language_info": {
   "codemirror_mode": {
    "name": "ipython",
    "version": 3
   },
   "file_extension": ".py",
   "mimetype": "text/x-python",
   "name": "python",
   "nbconvert_exporter": "python",
   "pygments_lexer": "ipython3",
   "version": "3.9.13"
  }
 },
 "nbformat": 4,
 "nbformat_minor": 4
}
